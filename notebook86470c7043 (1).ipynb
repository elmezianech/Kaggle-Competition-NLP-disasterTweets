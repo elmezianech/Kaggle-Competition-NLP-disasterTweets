{
 "cells": [
  {
   "cell_type": "code",
   "execution_count": 1,
   "id": "3a708682",
   "metadata": {
    "execution": {
     "iopub.execute_input": "2023-11-29T18:09:20.392000Z",
     "iopub.status.busy": "2023-11-29T18:09:20.391518Z",
     "iopub.status.idle": "2023-11-29T18:09:23.563469Z",
     "shell.execute_reply": "2023-11-29T18:09:23.561801Z"
    },
    "papermill": {
     "duration": 3.194445,
     "end_time": "2023-11-29T18:09:23.567298",
     "exception": false,
     "start_time": "2023-11-29T18:09:20.372853",
     "status": "completed"
    },
    "tags": []
   },
   "outputs": [],
   "source": [
    "import numpy as np\n",
    "import pandas as pd\n",
    "import re\n",
    "import nltk\n",
    "from nltk.corpus import stopwords\n",
    "from nltk.stem import PorterStemmer\n",
    "from sklearn.feature_extraction.text import CountVectorizer\n",
    "from sklearn.preprocessing import LabelEncoder\n",
    "from sklearn.svm import SVC\n",
    "from sklearn.model_selection import GridSearchCV, StratifiedKFold\n",
    "from sklearn.metrics import make_scorer, f1_score"
   ]
  },
  {
   "cell_type": "code",
   "execution_count": 2,
   "id": "b84047a0",
   "metadata": {
    "execution": {
     "iopub.execute_input": "2023-11-29T18:09:23.590404Z",
     "iopub.status.busy": "2023-11-29T18:09:23.589676Z",
     "iopub.status.idle": "2023-11-29T18:09:23.683891Z",
     "shell.execute_reply": "2023-11-29T18:09:23.682765Z"
    },
    "papermill": {
     "duration": 0.110279,
     "end_time": "2023-11-29T18:09:23.687288",
     "exception": false,
     "start_time": "2023-11-29T18:09:23.577009",
     "status": "completed"
    },
    "tags": []
   },
   "outputs": [],
   "source": [
    "#import data\n",
    "train_dataset = pd.read_csv('/kaggle/input/nlp-getting-started/train.csv')\n",
    "test_dataset = pd.read_csv('/kaggle/input/nlp-getting-started/test.csv')"
   ]
  },
  {
   "cell_type": "code",
   "execution_count": 3,
   "id": "b9ad229c",
   "metadata": {
    "execution": {
     "iopub.execute_input": "2023-11-29T18:09:23.710646Z",
     "iopub.status.busy": "2023-11-29T18:09:23.709617Z",
     "iopub.status.idle": "2023-11-29T18:09:23.740725Z",
     "shell.execute_reply": "2023-11-29T18:09:23.739024Z"
    },
    "papermill": {
     "duration": 0.046973,
     "end_time": "2023-11-29T18:09:23.744494",
     "exception": false,
     "start_time": "2023-11-29T18:09:23.697521",
     "status": "completed"
    },
    "tags": []
   },
   "outputs": [
    {
     "data": {
      "text/html": [
       "<div>\n",
       "<style scoped>\n",
       "    .dataframe tbody tr th:only-of-type {\n",
       "        vertical-align: middle;\n",
       "    }\n",
       "\n",
       "    .dataframe tbody tr th {\n",
       "        vertical-align: top;\n",
       "    }\n",
       "\n",
       "    .dataframe thead th {\n",
       "        text-align: right;\n",
       "    }\n",
       "</style>\n",
       "<table border=\"1\" class=\"dataframe\">\n",
       "  <thead>\n",
       "    <tr style=\"text-align: right;\">\n",
       "      <th></th>\n",
       "      <th>id</th>\n",
       "      <th>keyword</th>\n",
       "      <th>location</th>\n",
       "      <th>text</th>\n",
       "      <th>target</th>\n",
       "    </tr>\n",
       "  </thead>\n",
       "  <tbody>\n",
       "    <tr>\n",
       "      <th>0</th>\n",
       "      <td>1</td>\n",
       "      <td>NaN</td>\n",
       "      <td>NaN</td>\n",
       "      <td>Our Deeds are the Reason of this #earthquake M...</td>\n",
       "      <td>1</td>\n",
       "    </tr>\n",
       "    <tr>\n",
       "      <th>1</th>\n",
       "      <td>4</td>\n",
       "      <td>NaN</td>\n",
       "      <td>NaN</td>\n",
       "      <td>Forest fire near La Ronge Sask. Canada</td>\n",
       "      <td>1</td>\n",
       "    </tr>\n",
       "    <tr>\n",
       "      <th>2</th>\n",
       "      <td>5</td>\n",
       "      <td>NaN</td>\n",
       "      <td>NaN</td>\n",
       "      <td>All residents asked to 'shelter in place' are ...</td>\n",
       "      <td>1</td>\n",
       "    </tr>\n",
       "    <tr>\n",
       "      <th>3</th>\n",
       "      <td>6</td>\n",
       "      <td>NaN</td>\n",
       "      <td>NaN</td>\n",
       "      <td>13,000 people receive #wildfires evacuation or...</td>\n",
       "      <td>1</td>\n",
       "    </tr>\n",
       "    <tr>\n",
       "      <th>4</th>\n",
       "      <td>7</td>\n",
       "      <td>NaN</td>\n",
       "      <td>NaN</td>\n",
       "      <td>Just got sent this photo from Ruby #Alaska as ...</td>\n",
       "      <td>1</td>\n",
       "    </tr>\n",
       "  </tbody>\n",
       "</table>\n",
       "</div>"
      ],
      "text/plain": [
       "   id keyword location                                               text  \\\n",
       "0   1     NaN      NaN  Our Deeds are the Reason of this #earthquake M...   \n",
       "1   4     NaN      NaN             Forest fire near La Ronge Sask. Canada   \n",
       "2   5     NaN      NaN  All residents asked to 'shelter in place' are ...   \n",
       "3   6     NaN      NaN  13,000 people receive #wildfires evacuation or...   \n",
       "4   7     NaN      NaN  Just got sent this photo from Ruby #Alaska as ...   \n",
       "\n",
       "   target  \n",
       "0       1  \n",
       "1       1  \n",
       "2       1  \n",
       "3       1  \n",
       "4       1  "
      ]
     },
     "execution_count": 3,
     "metadata": {},
     "output_type": "execute_result"
    }
   ],
   "source": [
    "train_dataset.head()"
   ]
  },
  {
   "cell_type": "code",
   "execution_count": 4,
   "id": "aa59e509",
   "metadata": {
    "execution": {
     "iopub.execute_input": "2023-11-29T18:09:23.766268Z",
     "iopub.status.busy": "2023-11-29T18:09:23.765739Z",
     "iopub.status.idle": "2023-11-29T18:09:23.779757Z",
     "shell.execute_reply": "2023-11-29T18:09:23.778190Z"
    },
    "papermill": {
     "duration": 0.027877,
     "end_time": "2023-11-29T18:09:23.782504",
     "exception": false,
     "start_time": "2023-11-29T18:09:23.754627",
     "status": "completed"
    },
    "tags": []
   },
   "outputs": [
    {
     "data": {
      "text/html": [
       "<div>\n",
       "<style scoped>\n",
       "    .dataframe tbody tr th:only-of-type {\n",
       "        vertical-align: middle;\n",
       "    }\n",
       "\n",
       "    .dataframe tbody tr th {\n",
       "        vertical-align: top;\n",
       "    }\n",
       "\n",
       "    .dataframe thead th {\n",
       "        text-align: right;\n",
       "    }\n",
       "</style>\n",
       "<table border=\"1\" class=\"dataframe\">\n",
       "  <thead>\n",
       "    <tr style=\"text-align: right;\">\n",
       "      <th></th>\n",
       "      <th>id</th>\n",
       "      <th>keyword</th>\n",
       "      <th>location</th>\n",
       "      <th>text</th>\n",
       "    </tr>\n",
       "  </thead>\n",
       "  <tbody>\n",
       "    <tr>\n",
       "      <th>0</th>\n",
       "      <td>0</td>\n",
       "      <td>NaN</td>\n",
       "      <td>NaN</td>\n",
       "      <td>Just happened a terrible car crash</td>\n",
       "    </tr>\n",
       "    <tr>\n",
       "      <th>1</th>\n",
       "      <td>2</td>\n",
       "      <td>NaN</td>\n",
       "      <td>NaN</td>\n",
       "      <td>Heard about #earthquake is different cities, s...</td>\n",
       "    </tr>\n",
       "    <tr>\n",
       "      <th>2</th>\n",
       "      <td>3</td>\n",
       "      <td>NaN</td>\n",
       "      <td>NaN</td>\n",
       "      <td>there is a forest fire at spot pond, geese are...</td>\n",
       "    </tr>\n",
       "    <tr>\n",
       "      <th>3</th>\n",
       "      <td>9</td>\n",
       "      <td>NaN</td>\n",
       "      <td>NaN</td>\n",
       "      <td>Apocalypse lighting. #Spokane #wildfires</td>\n",
       "    </tr>\n",
       "    <tr>\n",
       "      <th>4</th>\n",
       "      <td>11</td>\n",
       "      <td>NaN</td>\n",
       "      <td>NaN</td>\n",
       "      <td>Typhoon Soudelor kills 28 in China and Taiwan</td>\n",
       "    </tr>\n",
       "  </tbody>\n",
       "</table>\n",
       "</div>"
      ],
      "text/plain": [
       "   id keyword location                                               text\n",
       "0   0     NaN      NaN                 Just happened a terrible car crash\n",
       "1   2     NaN      NaN  Heard about #earthquake is different cities, s...\n",
       "2   3     NaN      NaN  there is a forest fire at spot pond, geese are...\n",
       "3   9     NaN      NaN           Apocalypse lighting. #Spokane #wildfires\n",
       "4  11     NaN      NaN      Typhoon Soudelor kills 28 in China and Taiwan"
      ]
     },
     "execution_count": 4,
     "metadata": {},
     "output_type": "execute_result"
    }
   ],
   "source": [
    "test_dataset.head()"
   ]
  },
  {
   "cell_type": "code",
   "execution_count": 5,
   "id": "d1a33318",
   "metadata": {
    "execution": {
     "iopub.execute_input": "2023-11-29T18:09:23.807243Z",
     "iopub.status.busy": "2023-11-29T18:09:23.806062Z",
     "iopub.status.idle": "2023-11-29T18:09:23.822057Z",
     "shell.execute_reply": "2023-11-29T18:09:23.820440Z"
    },
    "papermill": {
     "duration": 0.032917,
     "end_time": "2023-11-29T18:09:23.825748",
     "exception": false,
     "start_time": "2023-11-29T18:09:23.792831",
     "status": "completed"
    },
    "tags": []
   },
   "outputs": [
    {
     "data": {
      "text/plain": [
       "location    2533\n",
       "keyword       61\n",
       "id             0\n",
       "text           0\n",
       "target         0\n",
       "dtype: int64"
      ]
     },
     "execution_count": 5,
     "metadata": {},
     "output_type": "execute_result"
    }
   ],
   "source": [
    "train_dataset.isnull().sum().sort_values(ascending=False)"
   ]
  },
  {
   "cell_type": "code",
   "execution_count": 6,
   "id": "d1b50dd7",
   "metadata": {
    "execution": {
     "iopub.execute_input": "2023-11-29T18:09:23.851472Z",
     "iopub.status.busy": "2023-11-29T18:09:23.850257Z",
     "iopub.status.idle": "2023-11-29T18:09:23.861246Z",
     "shell.execute_reply": "2023-11-29T18:09:23.860286Z"
    },
    "papermill": {
     "duration": 0.026929,
     "end_time": "2023-11-29T18:09:23.864098",
     "exception": false,
     "start_time": "2023-11-29T18:09:23.837169",
     "status": "completed"
    },
    "tags": []
   },
   "outputs": [
    {
     "data": {
      "text/plain": [
       "location    1105\n",
       "keyword       26\n",
       "id             0\n",
       "text           0\n",
       "dtype: int64"
      ]
     },
     "execution_count": 6,
     "metadata": {},
     "output_type": "execute_result"
    }
   ],
   "source": [
    "test_dataset.isnull().sum().sort_values(ascending=False)"
   ]
  },
  {
   "cell_type": "code",
   "execution_count": 7,
   "id": "2e2be123",
   "metadata": {
    "execution": {
     "iopub.execute_input": "2023-11-29T18:09:23.888464Z",
     "iopub.status.busy": "2023-11-29T18:09:23.887468Z",
     "iopub.status.idle": "2023-11-29T18:09:23.896147Z",
     "shell.execute_reply": "2023-11-29T18:09:23.894668Z"
    },
    "papermill": {
     "duration": 0.025075,
     "end_time": "2023-11-29T18:09:23.899292",
     "exception": false,
     "start_time": "2023-11-29T18:09:23.874217",
     "status": "completed"
    },
    "tags": []
   },
   "outputs": [
    {
     "data": {
      "text/plain": [
       "id           int64\n",
       "keyword     object\n",
       "location    object\n",
       "text        object\n",
       "target       int64\n",
       "dtype: object"
      ]
     },
     "execution_count": 7,
     "metadata": {},
     "output_type": "execute_result"
    }
   ],
   "source": [
    "train_dataset.dtypes"
   ]
  },
  {
   "cell_type": "code",
   "execution_count": 8,
   "id": "e2e600ba",
   "metadata": {
    "execution": {
     "iopub.execute_input": "2023-11-29T18:09:23.924490Z",
     "iopub.status.busy": "2023-11-29T18:09:23.923998Z",
     "iopub.status.idle": "2023-11-29T18:09:23.934873Z",
     "shell.execute_reply": "2023-11-29T18:09:23.933501Z"
    },
    "papermill": {
     "duration": 0.027448,
     "end_time": "2023-11-29T18:09:23.938052",
     "exception": false,
     "start_time": "2023-11-29T18:09:23.910604",
     "status": "completed"
    },
    "tags": []
   },
   "outputs": [],
   "source": [
    "# Create a binary feature in the train dataset 'has_location' based on whether 'location' is not NaN\n",
    "train_dataset['has_location'] = pd.notna(train_dataset['location']).astype(int)\n",
    "\n",
    "# Create a binary feature in the test dataset 'has_location' based on whether 'location' is not NaN\n",
    "test_dataset['has_location'] = pd.notna(test_dataset['location']).astype(int)"
   ]
  },
  {
   "cell_type": "code",
   "execution_count": 9,
   "id": "c3a94da4",
   "metadata": {
    "execution": {
     "iopub.execute_input": "2023-11-29T18:09:23.965726Z",
     "iopub.status.busy": "2023-11-29T18:09:23.964984Z",
     "iopub.status.idle": "2023-11-29T18:09:23.986032Z",
     "shell.execute_reply": "2023-11-29T18:09:23.984871Z"
    },
    "papermill": {
     "duration": 0.039783,
     "end_time": "2023-11-29T18:09:23.988675",
     "exception": false,
     "start_time": "2023-11-29T18:09:23.948892",
     "status": "completed"
    },
    "tags": []
   },
   "outputs": [],
   "source": [
    "# drop the column 'location' in the train dataset\n",
    "train_dataset.drop(['location'], axis=1, inplace=True)\n",
    "\n",
    "# drop the column 'location' in the test dataset\n",
    "test_dataset.drop(['location'], axis=1, inplace=True)"
   ]
  },
  {
   "cell_type": "code",
   "execution_count": 10,
   "id": "3f7d2853",
   "metadata": {
    "execution": {
     "iopub.execute_input": "2023-11-29T18:09:24.015163Z",
     "iopub.status.busy": "2023-11-29T18:09:24.014288Z",
     "iopub.status.idle": "2023-11-29T18:09:24.034069Z",
     "shell.execute_reply": "2023-11-29T18:09:24.032818Z"
    },
    "papermill": {
     "duration": 0.036915,
     "end_time": "2023-11-29T18:09:24.037712",
     "exception": false,
     "start_time": "2023-11-29T18:09:24.000797",
     "status": "completed"
    },
    "tags": []
   },
   "outputs": [],
   "source": [
    "# Replace NaN values in the 'keyword' column with a placeholder value, e.g., 'unknown'\n",
    "train_dataset['keyword'].fillna('unknown', inplace=True)\n",
    "label_encoder = LabelEncoder() # Initialize the LabelEncoder\n",
    "train_dataset['keyword_encoded'] = label_encoder.fit_transform(train_dataset['keyword']) # Fit and transform the 'keyword' column\n",
    "train_dataset.drop('keyword', axis=1, inplace=True) # Drop the original 'keyword' column\n",
    "\n",
    "# Replace NaN values in the 'keyword' column with a placeholder value, e.g., 'unknown'\n",
    "test_dataset['keyword'].fillna('unknown', inplace=True)\n",
    "test_dataset['keyword_encoded'] = label_encoder.fit_transform(test_dataset['keyword'])\n",
    "test_dataset.drop('keyword', axis=1, inplace=True)"
   ]
  },
  {
   "cell_type": "code",
   "execution_count": 11,
   "id": "a7686b02",
   "metadata": {
    "execution": {
     "iopub.execute_input": "2023-11-29T18:09:24.063721Z",
     "iopub.status.busy": "2023-11-29T18:09:24.062798Z",
     "iopub.status.idle": "2023-11-29T18:09:24.077423Z",
     "shell.execute_reply": "2023-11-29T18:09:24.076089Z"
    },
    "papermill": {
     "duration": 0.031683,
     "end_time": "2023-11-29T18:09:24.080720",
     "exception": false,
     "start_time": "2023-11-29T18:09:24.049037",
     "status": "completed"
    },
    "tags": []
   },
   "outputs": [
    {
     "data": {
      "text/html": [
       "<div>\n",
       "<style scoped>\n",
       "    .dataframe tbody tr th:only-of-type {\n",
       "        vertical-align: middle;\n",
       "    }\n",
       "\n",
       "    .dataframe tbody tr th {\n",
       "        vertical-align: top;\n",
       "    }\n",
       "\n",
       "    .dataframe thead th {\n",
       "        text-align: right;\n",
       "    }\n",
       "</style>\n",
       "<table border=\"1\" class=\"dataframe\">\n",
       "  <thead>\n",
       "    <tr style=\"text-align: right;\">\n",
       "      <th></th>\n",
       "      <th>id</th>\n",
       "      <th>text</th>\n",
       "      <th>target</th>\n",
       "      <th>has_location</th>\n",
       "      <th>keyword_encoded</th>\n",
       "    </tr>\n",
       "  </thead>\n",
       "  <tbody>\n",
       "    <tr>\n",
       "      <th>0</th>\n",
       "      <td>1</td>\n",
       "      <td>Our Deeds are the Reason of this #earthquake M...</td>\n",
       "      <td>1</td>\n",
       "      <td>0</td>\n",
       "      <td>206</td>\n",
       "    </tr>\n",
       "    <tr>\n",
       "      <th>1</th>\n",
       "      <td>4</td>\n",
       "      <td>Forest fire near La Ronge Sask. Canada</td>\n",
       "      <td>1</td>\n",
       "      <td>0</td>\n",
       "      <td>206</td>\n",
       "    </tr>\n",
       "    <tr>\n",
       "      <th>2</th>\n",
       "      <td>5</td>\n",
       "      <td>All residents asked to 'shelter in place' are ...</td>\n",
       "      <td>1</td>\n",
       "      <td>0</td>\n",
       "      <td>206</td>\n",
       "    </tr>\n",
       "    <tr>\n",
       "      <th>3</th>\n",
       "      <td>6</td>\n",
       "      <td>13,000 people receive #wildfires evacuation or...</td>\n",
       "      <td>1</td>\n",
       "      <td>0</td>\n",
       "      <td>206</td>\n",
       "    </tr>\n",
       "    <tr>\n",
       "      <th>4</th>\n",
       "      <td>7</td>\n",
       "      <td>Just got sent this photo from Ruby #Alaska as ...</td>\n",
       "      <td>1</td>\n",
       "      <td>0</td>\n",
       "      <td>206</td>\n",
       "    </tr>\n",
       "  </tbody>\n",
       "</table>\n",
       "</div>"
      ],
      "text/plain": [
       "   id                                               text  target  \\\n",
       "0   1  Our Deeds are the Reason of this #earthquake M...       1   \n",
       "1   4             Forest fire near La Ronge Sask. Canada       1   \n",
       "2   5  All residents asked to 'shelter in place' are ...       1   \n",
       "3   6  13,000 people receive #wildfires evacuation or...       1   \n",
       "4   7  Just got sent this photo from Ruby #Alaska as ...       1   \n",
       "\n",
       "   has_location  keyword_encoded  \n",
       "0             0              206  \n",
       "1             0              206  \n",
       "2             0              206  \n",
       "3             0              206  \n",
       "4             0              206  "
      ]
     },
     "execution_count": 11,
     "metadata": {},
     "output_type": "execute_result"
    }
   ],
   "source": [
    "train_dataset.head()"
   ]
  },
  {
   "cell_type": "code",
   "execution_count": 12,
   "id": "1a6a14c5",
   "metadata": {
    "execution": {
     "iopub.execute_input": "2023-11-29T18:09:24.106090Z",
     "iopub.status.busy": "2023-11-29T18:09:24.105465Z",
     "iopub.status.idle": "2023-11-29T18:09:24.122046Z",
     "shell.execute_reply": "2023-11-29T18:09:24.120268Z"
    },
    "papermill": {
     "duration": 0.03442,
     "end_time": "2023-11-29T18:09:24.125853",
     "exception": false,
     "start_time": "2023-11-29T18:09:24.091433",
     "status": "completed"
    },
    "tags": []
   },
   "outputs": [
    {
     "data": {
      "text/html": [
       "<div>\n",
       "<style scoped>\n",
       "    .dataframe tbody tr th:only-of-type {\n",
       "        vertical-align: middle;\n",
       "    }\n",
       "\n",
       "    .dataframe tbody tr th {\n",
       "        vertical-align: top;\n",
       "    }\n",
       "\n",
       "    .dataframe thead th {\n",
       "        text-align: right;\n",
       "    }\n",
       "</style>\n",
       "<table border=\"1\" class=\"dataframe\">\n",
       "  <thead>\n",
       "    <tr style=\"text-align: right;\">\n",
       "      <th></th>\n",
       "      <th>id</th>\n",
       "      <th>text</th>\n",
       "      <th>has_location</th>\n",
       "      <th>keyword_encoded</th>\n",
       "    </tr>\n",
       "  </thead>\n",
       "  <tbody>\n",
       "    <tr>\n",
       "      <th>0</th>\n",
       "      <td>0</td>\n",
       "      <td>Just happened a terrible car crash</td>\n",
       "      <td>0</td>\n",
       "      <td>206</td>\n",
       "    </tr>\n",
       "    <tr>\n",
       "      <th>1</th>\n",
       "      <td>2</td>\n",
       "      <td>Heard about #earthquake is different cities, s...</td>\n",
       "      <td>0</td>\n",
       "      <td>206</td>\n",
       "    </tr>\n",
       "    <tr>\n",
       "      <th>2</th>\n",
       "      <td>3</td>\n",
       "      <td>there is a forest fire at spot pond, geese are...</td>\n",
       "      <td>0</td>\n",
       "      <td>206</td>\n",
       "    </tr>\n",
       "    <tr>\n",
       "      <th>3</th>\n",
       "      <td>9</td>\n",
       "      <td>Apocalypse lighting. #Spokane #wildfires</td>\n",
       "      <td>0</td>\n",
       "      <td>206</td>\n",
       "    </tr>\n",
       "    <tr>\n",
       "      <th>4</th>\n",
       "      <td>11</td>\n",
       "      <td>Typhoon Soudelor kills 28 in China and Taiwan</td>\n",
       "      <td>0</td>\n",
       "      <td>206</td>\n",
       "    </tr>\n",
       "  </tbody>\n",
       "</table>\n",
       "</div>"
      ],
      "text/plain": [
       "   id                                               text  has_location  \\\n",
       "0   0                 Just happened a terrible car crash             0   \n",
       "1   2  Heard about #earthquake is different cities, s...             0   \n",
       "2   3  there is a forest fire at spot pond, geese are...             0   \n",
       "3   9           Apocalypse lighting. #Spokane #wildfires             0   \n",
       "4  11      Typhoon Soudelor kills 28 in China and Taiwan             0   \n",
       "\n",
       "   keyword_encoded  \n",
       "0              206  \n",
       "1              206  \n",
       "2              206  \n",
       "3              206  \n",
       "4              206  "
      ]
     },
     "execution_count": 12,
     "metadata": {},
     "output_type": "execute_result"
    }
   ],
   "source": [
    "test_dataset.head()"
   ]
  },
  {
   "cell_type": "code",
   "execution_count": 13,
   "id": "f49d3a4f",
   "metadata": {
    "execution": {
     "iopub.execute_input": "2023-11-29T18:09:24.152739Z",
     "iopub.status.busy": "2023-11-29T18:09:24.152211Z",
     "iopub.status.idle": "2023-11-29T18:09:28.678652Z",
     "shell.execute_reply": "2023-11-29T18:09:28.677134Z"
    },
    "papermill": {
     "duration": 4.544127,
     "end_time": "2023-11-29T18:09:28.681500",
     "exception": false,
     "start_time": "2023-11-29T18:09:24.137373",
     "status": "completed"
    },
    "tags": []
   },
   "outputs": [
    {
     "name": "stdout",
     "output_type": "stream",
     "text": [
      "[nltk_data] Downloading package stopwords to /usr/share/nltk_data...\n",
      "[nltk_data]   Package stopwords is already up-to-date!\n"
     ]
    }
   ],
   "source": [
    "# Download NLTK resources\n",
    "nltk.download('stopwords')\n",
    "\n",
    "# Initialize the Porter Stemmer and stopwords\n",
    "ps = PorterStemmer()\n",
    "stop_words = set(stopwords.words('english'))\n",
    "\n",
    "# Function for text preprocessing\n",
    "def preprocess_text(text):\n",
    "    \n",
    "    # Remove URLs, special characters, and numbers\n",
    "    text = re.sub(r'http\\S+|www\\S+|https\\S+|\\d+|#[\\w]+', '', text).lower()\n",
    "\n",
    "    # Remove all punctuation marks\n",
    "    text = re.sub(r'[^\\w\\s]', '', text)\n",
    "\n",
    "    # Tokenization and stemming\n",
    "    words = [ps.stem(word) for word in text.split() if word not in stop_words]\n",
    "\n",
    "    # Join the words back into a string\n",
    "    processed_text = ' '.join(words)\n",
    "\n",
    "    return processed_text\n",
    "\n",
    "# Apply the preprocessing function to your 'text' column\n",
    "train_dataset['processed_text'] = train_dataset['text'].apply(preprocess_text)\n",
    "\n",
    "test_dataset['processed_text'] = test_dataset['text'].apply(preprocess_text)"
   ]
  },
  {
   "cell_type": "code",
   "execution_count": 14,
   "id": "daf5a2cf",
   "metadata": {
    "execution": {
     "iopub.execute_input": "2023-11-29T18:09:28.705467Z",
     "iopub.status.busy": "2023-11-29T18:09:28.705043Z",
     "iopub.status.idle": "2023-11-29T18:09:28.713144Z",
     "shell.execute_reply": "2023-11-29T18:09:28.711731Z"
    },
    "papermill": {
     "duration": 0.023373,
     "end_time": "2023-11-29T18:09:28.715840",
     "exception": false,
     "start_time": "2023-11-29T18:09:28.692467",
     "status": "completed"
    },
    "tags": []
   },
   "outputs": [],
   "source": [
    "# Extract features (X) and target variable (y)\n",
    "X_train = train_dataset.drop('target', axis=1)  # Features\n",
    "y_train = train_dataset['target']  # Target variable\n",
    "\n",
    "X_test = test_dataset"
   ]
  },
  {
   "cell_type": "code",
   "execution_count": 15,
   "id": "b2218710",
   "metadata": {
    "execution": {
     "iopub.execute_input": "2023-11-29T18:09:28.742066Z",
     "iopub.status.busy": "2023-11-29T18:09:28.741288Z",
     "iopub.status.idle": "2023-11-29T18:09:29.010360Z",
     "shell.execute_reply": "2023-11-29T18:09:29.008728Z"
    },
    "papermill": {
     "duration": 0.287552,
     "end_time": "2023-11-29T18:09:29.014902",
     "exception": false,
     "start_time": "2023-11-29T18:09:28.727350",
     "status": "completed"
    },
    "tags": []
   },
   "outputs": [],
   "source": [
    "# transform the text data to feature vectors that can be used as input\n",
    "# TF-IDF vectorization\n",
    "tfidf_vectorizer = CountVectorizer(min_df=1, stop_words='english', lowercase=True)\n",
    "X_train_tfidf = tfidf_vectorizer.fit_transform(X_train['processed_text'])\n",
    "X_test_tfidf = tfidf_vectorizer.transform(X_test['processed_text'])"
   ]
  },
  {
   "cell_type": "code",
   "execution_count": 16,
   "id": "fbbda367",
   "metadata": {
    "execution": {
     "iopub.execute_input": "2023-11-29T18:09:29.041883Z",
     "iopub.status.busy": "2023-11-29T18:09:29.041477Z",
     "iopub.status.idle": "2023-11-29T18:09:29.062145Z",
     "shell.execute_reply": "2023-11-29T18:09:29.060795Z"
    },
    "papermill": {
     "duration": 0.036906,
     "end_time": "2023-11-29T18:09:29.064978",
     "exception": false,
     "start_time": "2023-11-29T18:09:29.028072",
     "status": "completed"
    },
    "tags": []
   },
   "outputs": [
    {
     "name": "stdout",
     "output_type": "stream",
     "text": [
      "Number of unique words: 12812\n"
     ]
    }
   ],
   "source": [
    "print(\"Number of unique words:\", len(tfidf_vectorizer.get_feature_names_out()))"
   ]
  },
  {
   "cell_type": "code",
   "execution_count": 17,
   "id": "0992d92b",
   "metadata": {
    "execution": {
     "iopub.execute_input": "2023-11-29T18:09:29.093324Z",
     "iopub.status.busy": "2023-11-29T18:09:29.092082Z",
     "iopub.status.idle": "2023-11-29T18:09:29.099843Z",
     "shell.execute_reply": "2023-11-29T18:09:29.098576Z"
    },
    "papermill": {
     "duration": 0.025995,
     "end_time": "2023-11-29T18:09:29.102867",
     "exception": false,
     "start_time": "2023-11-29T18:09:29.076872",
     "status": "completed"
    },
    "tags": []
   },
   "outputs": [
    {
     "data": {
      "text/plain": [
       "(7613, 5)"
      ]
     },
     "execution_count": 17,
     "metadata": {},
     "output_type": "execute_result"
    }
   ],
   "source": [
    "X_train.shape"
   ]
  },
  {
   "cell_type": "code",
   "execution_count": 18,
   "id": "fd41e533",
   "metadata": {
    "execution": {
     "iopub.execute_input": "2023-11-29T18:09:29.130058Z",
     "iopub.status.busy": "2023-11-29T18:09:29.129304Z",
     "iopub.status.idle": "2023-11-29T18:09:29.140131Z",
     "shell.execute_reply": "2023-11-29T18:09:29.138669Z"
    },
    "papermill": {
     "duration": 0.027881,
     "end_time": "2023-11-29T18:09:29.143375",
     "exception": false,
     "start_time": "2023-11-29T18:09:29.115494",
     "status": "completed"
    },
    "tags": []
   },
   "outputs": [
    {
     "data": {
      "text/plain": [
       "(7613, 12812)"
      ]
     },
     "execution_count": 18,
     "metadata": {},
     "output_type": "execute_result"
    }
   ],
   "source": [
    "X_train_tfidf.shape"
   ]
  },
  {
   "cell_type": "code",
   "execution_count": 19,
   "id": "729cbee6",
   "metadata": {
    "execution": {
     "iopub.execute_input": "2023-11-29T18:09:29.172301Z",
     "iopub.status.busy": "2023-11-29T18:09:29.171551Z",
     "iopub.status.idle": "2023-11-29T18:09:29.179435Z",
     "shell.execute_reply": "2023-11-29T18:09:29.178080Z"
    },
    "papermill": {
     "duration": 0.025137,
     "end_time": "2023-11-29T18:09:29.182100",
     "exception": false,
     "start_time": "2023-11-29T18:09:29.156963",
     "status": "completed"
    },
    "tags": []
   },
   "outputs": [
    {
     "data": {
      "text/plain": [
       "(3263, 5)"
      ]
     },
     "execution_count": 19,
     "metadata": {},
     "output_type": "execute_result"
    }
   ],
   "source": [
    "X_test.shape"
   ]
  },
  {
   "cell_type": "code",
   "execution_count": 20,
   "id": "8277ff94",
   "metadata": {
    "execution": {
     "iopub.execute_input": "2023-11-29T18:09:29.212413Z",
     "iopub.status.busy": "2023-11-29T18:09:29.210213Z",
     "iopub.status.idle": "2023-11-29T18:09:29.221081Z",
     "shell.execute_reply": "2023-11-29T18:09:29.219777Z"
    },
    "papermill": {
     "duration": 0.029672,
     "end_time": "2023-11-29T18:09:29.225044",
     "exception": false,
     "start_time": "2023-11-29T18:09:29.195372",
     "status": "completed"
    },
    "tags": []
   },
   "outputs": [
    {
     "data": {
      "text/plain": [
       "(3263, 12812)"
      ]
     },
     "execution_count": 20,
     "metadata": {},
     "output_type": "execute_result"
    }
   ],
   "source": [
    "X_test_tfidf.shape"
   ]
  },
  {
   "cell_type": "code",
   "execution_count": 21,
   "id": "1f8ea63c",
   "metadata": {
    "execution": {
     "iopub.execute_input": "2023-11-29T18:09:29.252671Z",
     "iopub.status.busy": "2023-11-29T18:09:29.252111Z",
     "iopub.status.idle": "2023-11-29T18:11:59.741255Z",
     "shell.execute_reply": "2023-11-29T18:11:59.739419Z"
    },
    "papermill": {
     "duration": 150.519084,
     "end_time": "2023-11-29T18:11:59.756539",
     "exception": false,
     "start_time": "2023-11-29T18:09:29.237455",
     "status": "completed"
    },
    "tags": []
   },
   "outputs": [
    {
     "name": "stdout",
     "output_type": "stream",
     "text": [
      "Fitting 7 folds for each of 12 candidates, totalling 84 fits\n",
      "Best Hyperparameters for SVM:\n",
      "{'C': 0.1, 'gamma': 'scale', 'kernel': 'linear'}\n"
     ]
    }
   ],
   "source": [
    "# Instantiate Support Vector Machine model\n",
    "svm_model = SVC()\n",
    "\n",
    "# Define the hyperparameter grid\n",
    "param_grid = {\n",
    "    'C': [0.1, 1, 10],  # You can add more values for C\n",
    "    'kernel': ['linear', 'rbf'],  # Different kernel options\n",
    "    'gamma': ['scale', 'auto']  # You can add more values for gamma\n",
    "}\n",
    "\n",
    "# Use F1 score as the scoring metric\n",
    "f1_scorer = make_scorer(f1_score)\n",
    "\n",
    "# Instantiate GridSearchCV with cross-validation (Stratified K-Fold)\n",
    "grid_search_svm = GridSearchCV(\n",
    "    estimator=svm_model,\n",
    "    param_grid=param_grid,\n",
    "    cv=StratifiedKFold(n_splits=7, shuffle=True),\n",
    "    scoring=f1_scorer,\n",
    "    verbose=1,\n",
    "    n_jobs=-1  # Use all available CPU cores\n",
    ")\n",
    "\n",
    "## Fit the SVM model\n",
    "grid_search_svm.fit(X_train_tfidf, y_train)\n",
    "\n",
    "# Get the best hyperparameters\n",
    "best_params_svm = grid_search_svm.best_params_\n",
    "\n",
    "# Print the best hyperparameters for SVM\n",
    "print(\"Best Hyperparameters for SVM:\")\n",
    "print(best_params_svm)"
   ]
  },
  {
   "cell_type": "code",
   "execution_count": 22,
   "id": "a0faaafb",
   "metadata": {
    "execution": {
     "iopub.execute_input": "2023-11-29T18:11:59.783927Z",
     "iopub.status.busy": "2023-11-29T18:11:59.783494Z",
     "iopub.status.idle": "2023-11-29T18:12:07.775404Z",
     "shell.execute_reply": "2023-11-29T18:12:07.773895Z"
    },
    "papermill": {
     "duration": 8.009773,
     "end_time": "2023-11-29T18:12:07.778720",
     "exception": false,
     "start_time": "2023-11-29T18:11:59.768947",
     "status": "completed"
    },
    "tags": []
   },
   "outputs": [],
   "source": [
    "model = SVC(C=1, gamma='scale', kernel='rbf')\n",
    "model.fit(X_train_tfidf, y_train)\n",
    "\n",
    "# Make predictions on the test set\n",
    "y_pred = model.predict(X_test_tfidf)"
   ]
  },
  {
   "cell_type": "code",
   "execution_count": 23,
   "id": "c1e8ed61",
   "metadata": {
    "execution": {
     "iopub.execute_input": "2023-11-29T18:12:07.805532Z",
     "iopub.status.busy": "2023-11-29T18:12:07.805064Z",
     "iopub.status.idle": "2023-11-29T18:12:07.812471Z",
     "shell.execute_reply": "2023-11-29T18:12:07.810987Z"
    },
    "papermill": {
     "duration": 0.024531,
     "end_time": "2023-11-29T18:12:07.815617",
     "exception": false,
     "start_time": "2023-11-29T18:12:07.791086",
     "status": "completed"
    },
    "tags": []
   },
   "outputs": [
    {
     "name": "stdout",
     "output_type": "stream",
     "text": [
      "[1 0 1 ... 1 1 0]\n"
     ]
    }
   ],
   "source": [
    "print(y_pred)"
   ]
  },
  {
   "cell_type": "code",
   "execution_count": 24,
   "id": "eb5ce121",
   "metadata": {
    "execution": {
     "iopub.execute_input": "2023-11-29T18:12:07.842848Z",
     "iopub.status.busy": "2023-11-29T18:12:07.842401Z",
     "iopub.status.idle": "2023-11-29T18:12:07.852059Z",
     "shell.execute_reply": "2023-11-29T18:12:07.850223Z"
    },
    "papermill": {
     "duration": 0.027391,
     "end_time": "2023-11-29T18:12:07.854691",
     "exception": false,
     "start_time": "2023-11-29T18:12:07.827300",
     "status": "completed"
    },
    "tags": []
   },
   "outputs": [],
   "source": [
    "# Create a submission DataFrame\n",
    "submission = pd.DataFrame({\n",
    "    'id': X_test['id'].astype(int),\n",
    "    'target': y_pred.astype(int)\n",
    "})"
   ]
  },
  {
   "cell_type": "code",
   "execution_count": 25,
   "id": "e1f79f24",
   "metadata": {
    "execution": {
     "iopub.execute_input": "2023-11-29T18:12:07.882700Z",
     "iopub.status.busy": "2023-11-29T18:12:07.882208Z",
     "iopub.status.idle": "2023-11-29T18:12:07.901233Z",
     "shell.execute_reply": "2023-11-29T18:12:07.899919Z"
    },
    "papermill": {
     "duration": 0.037224,
     "end_time": "2023-11-29T18:12:07.904750",
     "exception": false,
     "start_time": "2023-11-29T18:12:07.867526",
     "status": "completed"
    },
    "tags": []
   },
   "outputs": [],
   "source": [
    "# If they don't match, reset the index in submission_df\n",
    "submission.reset_index(drop=True, inplace=True)\n",
    "\n",
    "# Now, try saving the CSV again\n",
    "submission.to_csv('submission.csv', index=False)"
   ]
  },
  {
   "cell_type": "code",
   "execution_count": null,
   "id": "a8be725b",
   "metadata": {
    "papermill": {
     "duration": 0.012744,
     "end_time": "2023-11-29T18:12:07.929907",
     "exception": false,
     "start_time": "2023-11-29T18:12:07.917163",
     "status": "completed"
    },
    "tags": []
   },
   "outputs": [],
   "source": []
  }
 ],
 "metadata": {
  "kaggle": {
   "accelerator": "none",
   "dataSources": [
    {
     "databundleVersionId": 869809,
     "sourceId": 17777,
     "sourceType": "competition"
    }
   ],
   "dockerImageVersionId": 30587,
   "isGpuEnabled": false,
   "isInternetEnabled": true,
   "language": "python",
   "sourceType": "notebook"
  },
  "kernelspec": {
   "display_name": "Python 3",
   "language": "python",
   "name": "python3"
  },
  "language_info": {
   "codemirror_mode": {
    "name": "ipython",
    "version": 3
   },
   "file_extension": ".py",
   "mimetype": "text/x-python",
   "name": "python",
   "nbconvert_exporter": "python",
   "pygments_lexer": "ipython3",
   "version": "3.10.12"
  },
  "papermill": {
   "default_parameters": {},
   "duration": 174.421935,
   "end_time": "2023-11-29T18:12:10.568257",
   "environment_variables": {},
   "exception": null,
   "input_path": "__notebook__.ipynb",
   "output_path": "__notebook__.ipynb",
   "parameters": {},
   "start_time": "2023-11-29T18:09:16.146322",
   "version": "2.4.0"
  }
 },
 "nbformat": 4,
 "nbformat_minor": 5
}
